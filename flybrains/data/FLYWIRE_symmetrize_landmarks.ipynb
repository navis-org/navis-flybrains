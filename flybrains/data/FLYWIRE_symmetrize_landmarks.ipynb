{
 "cells": [
  {
   "cell_type": "markdown",
   "metadata": {},
   "source": [
    "## FAFB14 mirror landmarks\n",
    "In this notebook, we will generate a faster \"shortcut\" to a symmetrized FAFB14 space."
   ]
  },
  {
   "cell_type": "code",
   "execution_count": 1,
   "metadata": {},
   "outputs": [],
   "source": [
    "import numpy as np\n",
    "import pandas as pd\n",
    "\n",
    "import flybrains\n",
    "import navis"
   ]
  },
  {
   "cell_type": "code",
   "execution_count": 2,
   "metadata": {},
   "outputs": [
    {
     "data": {
      "text/plain": [
       "array([[192200, 853686],\n",
       "       [ 75853, 398832],\n",
       "       [  2007, 271205]])"
      ]
     },
     "execution_count": 2,
     "metadata": {},
     "output_type": "execute_result"
    }
   ],
   "source": [
    "# This is in nm coordinates\n",
    "bbox = np.array(flybrains.FLYWIRE.boundingbox).reshape(3, 2)\n",
    "bbox"
   ]
  },
  {
   "cell_type": "code",
   "execution_count": 3,
   "metadata": {},
   "outputs": [
    {
     "data": {
      "text/plain": [
       "522943.0"
      ]
     },
     "execution_count": 3,
     "metadata": {},
     "output_type": "execute_result"
    }
   ],
   "source": [
    "center = bbox[0][0] + (bbox[0][1] - bbox[0][0]) / 2\n",
    "center"
   ]
  },
  {
   "cell_type": "code",
   "execution_count": 6,
   "metadata": {},
   "outputs": [
    {
     "data": {
      "text/plain": [
       "(3390, 3)"
      ]
     },
     "execution_count": 6,
     "metadata": {},
     "output_type": "execute_result"
    }
   ],
   "source": [
    "# Sample points within the volume\n",
    "offset = 2500 * 8\n",
    "res = 2500 * 8\n",
    "sample = np.mgrid[bbox[0][0]-offset:bbox[0][1]+offset:res,\n",
    "                  bbox[1][0]-offset:bbox[1][1]+offset:res,\n",
    "                  max(0, bbox[2][0]-offset):bbox[2][1]+offset:res].reshape(3,-1).T\n",
    "\n",
    "# Drop points outside the volume\n",
    "sample = sample[navis.in_volume(sample, flybrains.FLYWIRE.mesh_whole_brain)]\n",
    "sample.shape"
   ]
  },
  {
   "cell_type": "code",
   "execution_count": 7,
   "metadata": {},
   "outputs": [
    {
     "data": {
      "text/plain": [
       "array([[172200, 175853, 180000],\n",
       "       [172200, 195853, 180000],\n",
       "       [172200, 215853, 160000],\n",
       "       ...,\n",
       "       [872200, 355853, 160000],\n",
       "       [872200, 375853, 120000],\n",
       "       [872200, 375853, 140000]])"
      ]
     },
     "execution_count": 7,
     "metadata": {},
     "output_type": "execute_result"
    }
   ],
   "source": [
    "sample"
   ]
  },
  {
   "cell_type": "code",
   "execution_count": 8,
   "metadata": {},
   "outputs": [
    {
     "data": {
      "text/plain": [
       "((1629, 3), (1761, 3))"
      ]
     },
     "execution_count": 8,
     "metadata": {},
     "output_type": "execute_result"
    }
   ],
   "source": [
    "# Split points into left and right\n",
    "right = sample[sample[:, 0] < center]\n",
    "left = sample[sample[:, 0] > center]\n",
    "right.shape, left.shape"
   ]
  },
  {
   "cell_type": "code",
   "execution_count": null,
   "metadata": {},
   "outputs": [],
   "source": [
    "# The sampled coordinates\n",
    "fig = navis.plot3d([flybrains.FLYWIRE, left], scatter_kws={'color': 'r', 'name': 'left'}, inline=False)\n",
    "navis.plot3d([right], scatter_kws={'color': 'g', 'name': 'right'}, fig=fig)"
   ]
  },
  {
   "cell_type": "code",
   "execution_count": 11,
   "metadata": {},
   "outputs": [
    {
     "name": "stdout",
     "output_type": "stream",
     "text": [
      "Transform path: FLYWIRE -> FLYWIREum -> JRC2018F\n",
      "Transform path: JRC2018F -> FLYWIREum -> FLYWIRE\n"
     ]
    },
    {
     "data": {
      "text/plain": [
       "array([[-520288.476 ,   18430.6625,  197890.976 ],\n",
       "       [-518511.836 ,   18493.8173,  217759.547 ],\n",
       "       [-521506.073 ,   38387.3709,  197981.081 ],\n",
       "       ...,\n",
       "       [-872027.451 ,  293835.153 ,  289084.155 ],\n",
       "       [-876798.209 ,  313665.524 ,  249437.22  ],\n",
       "       [-875021.572 ,  313728.693 ,  269305.736 ]])"
      ]
     },
     "execution_count": 11,
     "metadata": {},
     "output_type": "execute_result"
    }
   ],
   "source": [
    "# Now mirror left coordinates onto the right\n",
    "left_mirr = navis.mirror_brain(left.astype(np.float64), template='FLYWIRE', via='JRC2018F', verbose=True)\n",
    "left_mirr"
   ]
  },
  {
   "cell_type": "code",
   "execution_count": 12,
   "metadata": {},
   "outputs": [
    {
     "data": {
      "text/plain": [
       "array([[1566174.476 ,   18430.6625,  197890.976 ],\n",
       "       [1564397.836 ,   18493.8173,  217759.547 ],\n",
       "       [1567392.073 ,   38387.3709,  197981.081 ],\n",
       "       ...,\n",
       "       [1917913.451 ,  293835.153 ,  289084.155 ],\n",
       "       [1922684.209 ,  313665.524 ,  249437.22  ],\n",
       "       [1920907.572 ,  313728.693 ,  269305.736 ]])"
      ]
     },
     "execution_count": 12,
     "metadata": {},
     "output_type": "execute_result"
    }
   ],
   "source": [
    "# Flip back without compensating\n",
    "left_flipback = navis.mirror_brain(left_mirr, template='FLYWIRE', warp=False)\n",
    "left_flipback"
   ]
  },
  {
   "cell_type": "code",
   "execution_count": null,
   "metadata": {},
   "outputs": [],
   "source": [
    "# The flipped coordinates\n",
    "fig = navis.plot3d([flybrains.FLYWIRE, left_flipback], scatter_kws={'color': 'r', 'name': 'left'}, plotly_inline=False)\n",
    "navis.plot3d([right], scatter_kws={'color': 'g', 'name': 'right'}, fig=fig)"
   ]
  },
  {
   "cell_type": "code",
   "execution_count": 13,
   "metadata": {},
   "outputs": [
    {
     "data": {
      "text/html": [
       "<div>\n",
       "<style scoped>\n",
       "    .dataframe tbody tr th:only-of-type {\n",
       "        vertical-align: middle;\n",
       "    }\n",
       "\n",
       "    .dataframe tbody tr th {\n",
       "        vertical-align: top;\n",
       "    }\n",
       "\n",
       "    .dataframe thead th {\n",
       "        text-align: right;\n",
       "    }\n",
       "</style>\n",
       "<table border=\"1\" class=\"dataframe\">\n",
       "  <thead>\n",
       "    <tr style=\"text-align: right;\">\n",
       "      <th></th>\n",
       "      <th>x</th>\n",
       "      <th>y</th>\n",
       "      <th>z</th>\n",
       "      <th>x_sym</th>\n",
       "      <th>y_sym</th>\n",
       "      <th>z_sym</th>\n",
       "    </tr>\n",
       "  </thead>\n",
       "  <tbody>\n",
       "    <tr>\n",
       "      <th>0</th>\n",
       "      <td>532200</td>\n",
       "      <td>55853</td>\n",
       "      <td>120000</td>\n",
       "      <td>1566174</td>\n",
       "      <td>18431</td>\n",
       "      <td>197891</td>\n",
       "    </tr>\n",
       "    <tr>\n",
       "      <th>1</th>\n",
       "      <td>532200</td>\n",
       "      <td>55853</td>\n",
       "      <td>140000</td>\n",
       "      <td>1564398</td>\n",
       "      <td>18494</td>\n",
       "      <td>217760</td>\n",
       "    </tr>\n",
       "    <tr>\n",
       "      <th>2</th>\n",
       "      <td>532200</td>\n",
       "      <td>75853</td>\n",
       "      <td>120000</td>\n",
       "      <td>1567392</td>\n",
       "      <td>38387</td>\n",
       "      <td>197981</td>\n",
       "    </tr>\n",
       "    <tr>\n",
       "      <th>3</th>\n",
       "      <td>532200</td>\n",
       "      <td>75853</td>\n",
       "      <td>140000</td>\n",
       "      <td>1565615</td>\n",
       "      <td>38451</td>\n",
       "      <td>217850</td>\n",
       "    </tr>\n",
       "    <tr>\n",
       "      <th>4</th>\n",
       "      <td>532200</td>\n",
       "      <td>75853</td>\n",
       "      <td>160000</td>\n",
       "      <td>1563839</td>\n",
       "      <td>38514</td>\n",
       "      <td>237718</td>\n",
       "    </tr>\n",
       "    <tr>\n",
       "      <th>...</th>\n",
       "      <td>...</td>\n",
       "      <td>...</td>\n",
       "      <td>...</td>\n",
       "      <td>...</td>\n",
       "      <td>...</td>\n",
       "      <td>...</td>\n",
       "    </tr>\n",
       "    <tr>\n",
       "      <th>3385</th>\n",
       "      <td>512200</td>\n",
       "      <td>355853</td>\n",
       "      <td>140000</td>\n",
       "      <td>512200</td>\n",
       "      <td>355853</td>\n",
       "      <td>140000</td>\n",
       "    </tr>\n",
       "    <tr>\n",
       "      <th>3386</th>\n",
       "      <td>512200</td>\n",
       "      <td>355853</td>\n",
       "      <td>160000</td>\n",
       "      <td>512200</td>\n",
       "      <td>355853</td>\n",
       "      <td>160000</td>\n",
       "    </tr>\n",
       "    <tr>\n",
       "      <th>3387</th>\n",
       "      <td>512200</td>\n",
       "      <td>355853</td>\n",
       "      <td>180000</td>\n",
       "      <td>512200</td>\n",
       "      <td>355853</td>\n",
       "      <td>180000</td>\n",
       "    </tr>\n",
       "    <tr>\n",
       "      <th>3388</th>\n",
       "      <td>512200</td>\n",
       "      <td>355853</td>\n",
       "      <td>200000</td>\n",
       "      <td>512200</td>\n",
       "      <td>355853</td>\n",
       "      <td>200000</td>\n",
       "    </tr>\n",
       "    <tr>\n",
       "      <th>3389</th>\n",
       "      <td>512200</td>\n",
       "      <td>355853</td>\n",
       "      <td>260000</td>\n",
       "      <td>512200</td>\n",
       "      <td>355853</td>\n",
       "      <td>260000</td>\n",
       "    </tr>\n",
       "  </tbody>\n",
       "</table>\n",
       "<p>3390 rows × 6 columns</p>\n",
       "</div>"
      ],
      "text/plain": [
       "           x       y       z    x_sym   y_sym   z_sym\n",
       "0     532200   55853  120000  1566174   18431  197891\n",
       "1     532200   55853  140000  1564398   18494  217760\n",
       "2     532200   75853  120000  1567392   38387  197981\n",
       "3     532200   75853  140000  1565615   38451  217850\n",
       "4     532200   75853  160000  1563839   38514  237718\n",
       "...      ...     ...     ...      ...     ...     ...\n",
       "3385  512200  355853  140000   512200  355853  140000\n",
       "3386  512200  355853  160000   512200  355853  160000\n",
       "3387  512200  355853  180000   512200  355853  180000\n",
       "3388  512200  355853  200000   512200  355853  200000\n",
       "3389  512200  355853  260000   512200  355853  260000\n",
       "\n",
       "[3390 rows x 6 columns]"
      ]
     },
     "execution_count": 13,
     "metadata": {},
     "output_type": "execute_result"
    }
   ],
   "source": [
    "# Bring it together\n",
    "left_source = pd.DataFrame(left, columns=['x', 'y', 'z']).round().astype(int)\n",
    "left_target = pd.DataFrame(left_flipback, columns=['x_sym', 'y_sym', 'z_sym']).round().astype(int)\n",
    "left_lm = pd.concat((left_source, left_target), axis=1)\n",
    "\n",
    "right_source = right_target = pd.DataFrame(right, columns=['x', 'y', 'z']).round().astype(int)\n",
    "right_lm = pd.concat((right_source, right_target), axis=1)\n",
    "right_lm.columns = left_lm.columns\n",
    "\n",
    "lm = pd.concat([left_lm, right_lm], axis=0).reset_index(drop=True)\n",
    "lm"
   ]
  },
  {
   "cell_type": "code",
   "execution_count": 14,
   "metadata": {},
   "outputs": [],
   "source": [
    "lm.to_csv('FLYWIRE_symmetrize_landmarks_nm.csv', index=False)"
   ]
  },
  {
   "cell_type": "code",
   "execution_count": 15,
   "metadata": {},
   "outputs": [
    {
     "name": "stdout",
     "output_type": "stream",
     "text": [
      "Transform path: FLYWIRE -> FLYWIREraw -> FAFB14raw -> FAFB14\n"
     ]
    }
   ],
   "source": [
    "# Generate landmarks for FAFB too\n",
    "from fafbseg import flywire  # this registers the FAFB<->FLYWIRE transformation on spine\n",
    "lm_fafb = lm.copy()\n",
    "lm_fafb[['x', 'y', 'z']] = navis.xform_brain(lm[['x', 'y', 'z']].values, 'FLYWIRE', 'FAFB14')\n",
    "lm_fafb[['x_sym', 'y_sym', 'z_sym']] = navis.xform_brain(lm[['x_sym', 'y_sym', 'z_sym']].values, 'FLYWIRE', 'FAFB14')\n",
    "lm_fafb.to_csv('FAFB_symmetrize_landmarks_nm.csv', index=False)"
   ]
  }
 ],
 "metadata": {
  "kernelspec": {
   "display_name": "Python 3",
   "language": "python",
   "name": "python3"
  },
  "language_info": {
   "codemirror_mode": {
    "name": "ipython",
    "version": 3
   },
   "file_extension": ".py",
   "mimetype": "text/x-python",
   "name": "python",
   "nbconvert_exporter": "python",
   "pygments_lexer": "ipython3",
   "version": "3.11.8"
  },
  "widgets": {
   "application/vnd.jupyter.widget-state+json": {
    "state": {},
    "version_major": 2,
    "version_minor": 0
   }
  }
 },
 "nbformat": 4,
 "nbformat_minor": 4
}
