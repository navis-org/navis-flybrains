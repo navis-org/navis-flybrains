{
 "cells": [
  {
   "cell_type": "markdown",
   "metadata": {},
   "source": [
    "## FLYWIRE mirror landmarks\n",
    "In this notebook, we will generate a \"shortcut\" to mirror FLYWIRE & FAFB14 data. The general idea is:\n",
    "1. Evenly sample points from one side of the brain\n",
    "2. Flip them to the other side to generate mirror-symmetrical source landmarks\n",
    "3. Mirror those landmarks again but going via JRC2018F to generate the target landmarks"
   ]
  },
  {
   "cell_type": "code",
   "execution_count": 1,
   "metadata": {},
   "outputs": [],
   "source": [
    "import numpy as np\n",
    "import pandas as pd\n",
    "\n",
    "import flybrains\n",
    "import navis"
   ]
  },
  {
   "cell_type": "code",
   "execution_count": 2,
   "metadata": {},
   "outputs": [
    {
     "data": {
      "text/plain": [
       "array([[192200, 853686],\n",
       "       [ 75853, 398832],\n",
       "       [  2007, 271205]])"
      ]
     },
     "execution_count": 2,
     "metadata": {},
     "output_type": "execute_result"
    }
   ],
   "source": [
    "np.array(flybrains.FLYWIRE.boundingbox).reshape(3, 2)"
   ]
  },
  {
   "cell_type": "code",
   "execution_count": 3,
   "metadata": {},
   "outputs": [
    {
     "data": {
      "text/plain": [
       "522943.0"
      ]
     },
     "execution_count": 3,
     "metadata": {},
     "output_type": "execute_result"
    }
   ],
   "source": [
    "center = 192200 + (853686 - 192200) / 2\n",
    "center"
   ]
  },
  {
   "cell_type": "code",
   "execution_count": 4,
   "metadata": {},
   "outputs": [
    {
     "data": {
      "text/plain": [
       "(3390, 3)"
      ]
     },
     "execution_count": 4,
     "metadata": {},
     "output_type": "execute_result"
    }
   ],
   "source": [
    "# Sample points within the volume\n",
    "offset = 20000\n",
    "res = 20000\n",
    "sample = np.mgrid[192200-offset:853686+offset:res, 75853-offset:398832+offset:res, max(0, 2007-offset):271205+offset:res].reshape(3,-1).T\n",
    "\n",
    "# Drop points outside the volume (note we're using the whole brain mesh here)\n",
    "sample = sample[navis.in_volume(sample, flybrains.FLYWIRE.mesh_whole_brain)]\n",
    "sample.shape"
   ]
  },
  {
   "cell_type": "code",
   "execution_count": 5,
   "metadata": {},
   "outputs": [
    {
     "name": "stdout",
     "output_type": "stream",
     "text": [
      "Transform path: FLYWIRE -> FLYWIREum -> JRC2018F\n",
      "Transform path: JRC2018F -> FLYWIREum -> FLYWIRE\n"
     ]
    }
   ],
   "source": [
    "# The properly mirrored coordinates\n",
    "sample_mirr = navis.mirror_brain(sample, template='FLYWIRE', via='JRC2018F', verbose=True)"
   ]
  },
  {
   "cell_type": "code",
   "execution_count": 6,
   "metadata": {},
   "outputs": [],
   "source": [
    "# Just flipped\n",
    "sample_flip = navis.mirror_brain(sample, template='FLYWIRE', warp=False)"
   ]
  },
  {
   "cell_type": "code",
   "execution_count": null,
   "metadata": {},
   "outputs": [],
   "source": [
    "navis.plot3d([flybrains.FLYWIRE.mesh_whole_brain, sample_flip])"
   ]
  },
  {
   "cell_type": "code",
   "execution_count": null,
   "metadata": {},
   "outputs": [],
   "source": [
    "navis.plot3d([flybrains.FLYWIRE, sample_mirr])"
   ]
  },
  {
   "cell_type": "code",
   "execution_count": 7,
   "metadata": {},
   "outputs": [
    {
     "data": {
      "text/html": [
       "<div>\n",
       "<style scoped>\n",
       "    .dataframe tbody tr th:only-of-type {\n",
       "        vertical-align: middle;\n",
       "    }\n",
       "\n",
       "    .dataframe tbody tr th {\n",
       "        vertical-align: top;\n",
       "    }\n",
       "\n",
       "    .dataframe thead th {\n",
       "        text-align: right;\n",
       "    }\n",
       "</style>\n",
       "<table border=\"1\" class=\"dataframe\">\n",
       "  <thead>\n",
       "    <tr style=\"text-align: right;\">\n",
       "      <th></th>\n",
       "      <th>x_flip</th>\n",
       "      <th>y_flip</th>\n",
       "      <th>z_flip</th>\n",
       "      <th>x_mirr</th>\n",
       "      <th>y_mirr</th>\n",
       "      <th>z_mirr</th>\n",
       "    </tr>\n",
       "  </thead>\n",
       "  <tbody>\n",
       "    <tr>\n",
       "      <th>0</th>\n",
       "      <td>873686</td>\n",
       "      <td>175853</td>\n",
       "      <td>180000</td>\n",
       "      <td>-165410</td>\n",
       "      <td>163849</td>\n",
       "      <td>204985</td>\n",
       "    </tr>\n",
       "    <tr>\n",
       "      <th>1</th>\n",
       "      <td>873686</td>\n",
       "      <td>195853</td>\n",
       "      <td>180000</td>\n",
       "      <td>-166627</td>\n",
       "      <td>183806</td>\n",
       "      <td>205075</td>\n",
       "    </tr>\n",
       "    <tr>\n",
       "      <th>2</th>\n",
       "      <td>873686</td>\n",
       "      <td>215853</td>\n",
       "      <td>160000</td>\n",
       "      <td>-169622</td>\n",
       "      <td>203699</td>\n",
       "      <td>185297</td>\n",
       "    </tr>\n",
       "    <tr>\n",
       "      <th>3</th>\n",
       "      <td>873686</td>\n",
       "      <td>215853</td>\n",
       "      <td>180000</td>\n",
       "      <td>-167845</td>\n",
       "      <td>203762</td>\n",
       "      <td>205166</td>\n",
       "    </tr>\n",
       "    <tr>\n",
       "      <th>4</th>\n",
       "      <td>873686</td>\n",
       "      <td>215853</td>\n",
       "      <td>200000</td>\n",
       "      <td>-166068</td>\n",
       "      <td>203826</td>\n",
       "      <td>225034</td>\n",
       "    </tr>\n",
       "  </tbody>\n",
       "</table>\n",
       "</div>"
      ],
      "text/plain": [
       "   x_flip  y_flip  z_flip  x_mirr  y_mirr  z_mirr\n",
       "0  873686  175853  180000 -165410  163849  204985\n",
       "1  873686  195853  180000 -166627  183806  205075\n",
       "2  873686  215853  160000 -169622  203699  185297\n",
       "3  873686  215853  180000 -167845  203762  205166\n",
       "4  873686  215853  200000 -166068  203826  225034"
      ]
     },
     "execution_count": 7,
     "metadata": {},
     "output_type": "execute_result"
    }
   ],
   "source": [
    "# Bring it together\n",
    "source = pd.DataFrame(sample_flip, columns=['x_flip', 'y_flip', 'z_flip']).round().astype(int)\n",
    "target = pd.DataFrame(sample_mirr, columns=['x_mirr', 'y_mirr', 'z_mirr']).round().astype(int)\n",
    "lm = pd.concat((source, target), axis=1)\n",
    "lm.head()"
   ]
  },
  {
   "cell_type": "code",
   "execution_count": 8,
   "metadata": {},
   "outputs": [],
   "source": [
    "lm.to_csv('FLYWIRE_mirror_landmarks.csv', index=False)"
   ]
  },
  {
   "cell_type": "code",
   "execution_count": 12,
   "metadata": {},
   "outputs": [
    {
     "name": "stdout",
     "output_type": "stream",
     "text": [
      "Transform path: FLYWIRE -> FLYWIREraw -> FAFB14raw -> FAFB14\n",
      "Transform path: FLYWIRE -> FLYWIREraw -> FAFB14raw -> FAFB14\n"
     ]
    },
    {
     "name": "stderr",
     "output_type": "stream",
     "text": [
      "/Users/philipps/Github/fafbseg-py/fafbseg/spine/base.py:414: UserWarning: 3390 points failed to transform.\n",
      "  warnings.warn(msg)\n"
     ]
    }
   ],
   "source": [
    "# Generate landmarks for FAFB too\n",
    "from fafbseg import flywire  # this registers the FAFB<->FLYWIRE transformation on spine\n",
    "lm_fafb = lm.copy()\n",
    "lm_fafb[['x_flip', 'y_flip', 'z_flip']] = navis.xform_brain(lm[['x_flip', 'y_flip', 'z_flip']].values, 'FLYWIRE', 'FAFB14')\n",
    "lm_fafb[['x_mirr', 'y_mirr', 'z_mirr']] = navis.xform_brain(lm[['x_mirr', 'y_mirr', 'z_mirr']].values, 'FLYWIRE', 'FAFB14')\n",
    "lm_fafb.to_csv('FAFB14_mirror_landmarks.csv', index=False)"
   ]
  },
  {
   "cell_type": "code",
   "execution_count": 10,
   "metadata": {},
   "outputs": [
    {
     "name": "stdout",
     "output_type": "stream",
     "text": [
      "Transform path: FLYWIRE -> FLYWIREraw -> FAFB14raw -> FAFB14 = FAFB\n"
     ]
    },
    {
     "data": {
      "text/plain": [
       "array([[873337., 176338., 180000.],\n",
       "       [874031., 195570., 180000.],\n",
       "       [873829., 216014., 160000.],\n",
       "       ...,\n",
       "       [173211., 356203., 160000.],\n",
       "       [170734., 374270., 120000.],\n",
       "       [172773., 375124., 140000.]])"
      ]
     },
     "execution_count": 10,
     "metadata": {},
     "output_type": "execute_result"
    }
   ],
   "source": [
    "navis.xform_brain(lm[['x_flip', 'y_flip', 'z_flip']].values, 'FLYWIRE', 'FAFB')"
   ]
  },
  {
   "cell_type": "markdown",
   "metadata": {},
   "source": [
    "## Testing accurracy\n",
    "Note that this needs a reload of the kernel flybrains"
   ]
  },
  {
   "cell_type": "code",
   "execution_count": 1,
   "metadata": {},
   "outputs": [],
   "source": [
    "import navis\n",
    "import flybrains\n",
    "\n",
    "import seaborn as sns\n",
    "import matplotlib.pyplot as plt\n",
    "\n",
    "import numpy as np"
   ]
  },
  {
   "cell_type": "code",
   "execution_count": 2,
   "metadata": {},
   "outputs": [
    {
     "data": {
      "text/plain": [
       "(50000, 3)"
      ]
     },
     "execution_count": 2,
     "metadata": {},
     "output_type": "execute_result"
    }
   ],
   "source": [
    "# Generate 50k randomly distributed points\n",
    "sample = np.dstack((np.random.randint(192200, 853686, size=200000),\n",
    "                    np.random.randint(75853, 398832, size=200000),\n",
    "                    np.random.randint(2007, 271205, size=200000)))[0]\n",
    "sample = sample[navis.in_volume(sample, flybrains.FLYWIRE.mesh)][:50000]\n",
    "sample.shape"
   ]
  },
  {
   "cell_type": "code",
   "execution_count": 3,
   "metadata": {},
   "outputs": [
    {
     "name": "stdout",
     "output_type": "stream",
     "text": [
      "CPU times: user 4.18 s, sys: 2.96 s, total: 7.14 s\n",
      "Wall time: 760 ms\n"
     ]
    }
   ],
   "source": [
    "# Using the \"cheap\" transform\n",
    "%time xf = navis.mirror_brain(sample, template='FLYWIRE', warp=True)"
   ]
  },
  {
   "cell_type": "code",
   "execution_count": 4,
   "metadata": {},
   "outputs": [
    {
     "name": "stdout",
     "output_type": "stream",
     "text": [
      "CPU times: user 5.53 s, sys: 543 ms, total: 6.07 s\n",
      "Wall time: 9.22 s\n"
     ]
    }
   ],
   "source": [
    "# Using the slow but accurate transform\n",
    "%time xf2 = navis.mirror_brain(sample, template='FLYWIRE', warp=False, via='JRC2018F', verbose=True)"
   ]
  },
  {
   "cell_type": "code",
   "execution_count": 5,
   "metadata": {},
   "outputs": [
    {
     "name": "stdout",
     "output_type": "stream",
     "text": [
      "Mean offset [nm]: 0.9861825559617545\n",
      "Max offset [nm]: 2.1293287674725025\n"
     ]
    }
   ],
   "source": [
    "# Get the distance\n",
    "d = np.sqrt(np.sum((xf - xf2)**2, axis=1))\n",
    "print('Mean offset [nm]:', d.mean())\n",
    "print('Max offset [nm]:', d.max())"
   ]
  },
  {
   "cell_type": "code",
   "execution_count": 6,
   "metadata": {},
   "outputs": [
    {
     "data": {
      "image/png": "[encoded data removed]",
      "text/plain": [
       "<Figure size 640x480 with 1 Axes>"
      ]
     },
     "metadata": {},
     "output_type": "display_data"
    }
   ],
   "source": [
    "ax = sns.histplot(d)\n",
    "\n",
    "ax.set_xlabel('Offset [nm] between direct FAFB14 and indirect FAFB14 mirror via JRC2018F')\n",
    "\n",
    "sns.despine(trim=True)\n",
    "\n",
    "plt.tight_layout()\n",
    "plt.savefig('FAFB14_mirror_evaluation.png', dpi=450)"
   ]
  }
 ],
 "metadata": {
  "kernelspec": {
   "display_name": "Python 3",
   "language": "python",
   "name": "python3"
  },
  "language_info": {
   "codemirror_mode": {
    "name": "ipython",
    "version": 3
   },
   "file_extension": ".py",
   "mimetype": "text/x-python",
   "name": "python",
   "nbconvert_exporter": "python",
   "pygments_lexer": "ipython3",
   "version": "3.11.8"
  },
  "widgets": {
   "application/vnd.jupyter.widget-state+json": {
    "state": {},
    "version_major": 2,
    "version_minor": 0
   }
  }
 },
 "nbformat": 4,
 "nbformat_minor": 4
}
