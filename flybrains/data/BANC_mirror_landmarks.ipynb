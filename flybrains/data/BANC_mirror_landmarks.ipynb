{
 "cells": [
  {
   "cell_type": "markdown",
   "metadata": {},
   "source": [
    "## BANC CNS mirror landmarks\n",
    "In this notebook, we will generate a \"shortcut\" to mirror BANC data. The general idea is:\n",
    "1. Evenly sample points from one side of the CNS\n",
    "2. Flip them to the other side to generate mirror-symmetrical source landmarks\n",
    "3. Mirror those landmarks again but going via JRC2018M for the brain and via JRCVNC2018M for the VNC to generate the target landmarks"
   ]
  },
  {
   "cell_type": "code",
   "execution_count": 1,
   "metadata": {},
   "outputs": [],
   "source": [
    "import numpy as np\n",
    "import pandas as pd\n",
    "\n",
    "import cloudvolume as cv\n",
    "\n",
    "import flybrains\n",
    "import navis"
   ]
  },
  {
   "cell_type": "code",
   "execution_count": 2,
   "metadata": {},
   "outputs": [],
   "source": [
    "# Grab the whole brain mesh\n",
    "if hasattr(flybrains.BANC, \"_mesh_whole_brain\"):\n",
    "    del flybrains.BANC._mesh_whole_brain\n",
    "mesh = flybrains.BANC.mesh_whole_brain"
   ]
  },
  {
   "cell_type": "code",
   "execution_count": 3,
   "metadata": {},
   "outputs": [
    {
     "data": {
      "text/plain": [
       "array([[  79342,   35458,      43],\n",
       "       [ 966128, 1131156,  315520]])"
      ]
     },
     "execution_count": 3,
     "metadata": {},
     "output_type": "execute_result"
    }
   ],
   "source": [
    "all_verts = mesh.vertices\n",
    "bounds = np.vstack([all_verts.min(axis=0), all_verts.max(axis=0)]).astype(int)\n",
    "bounds"
   ]
  },
  {
   "cell_type": "code",
   "execution_count": 4,
   "metadata": {},
   "outputs": [
    {
     "data": {
      "text/plain": [
       "array([[  69342,   25458,   -9957],\n",
       "       [ 976128, 1141156,  325520]])"
      ]
     },
     "execution_count": 4,
     "metadata": {},
     "output_type": "execute_result"
    }
   ],
   "source": [
    "# Add 10 microns around the mesh\n",
    "offset = 10000\n",
    "bounds_off = bounds.astype(int)\n",
    "bounds_off[0, :] -= offset\n",
    "bounds_off[1, :] += offset\n",
    "bounds_off"
   ]
  },
  {
   "cell_type": "code",
   "execution_count": 5,
   "metadata": {},
   "outputs": [
    {
     "data": {
      "text/plain": [
       "(1217, 3)"
      ]
     },
     "execution_count": 5,
     "metadata": {},
     "output_type": "execute_result"
    }
   ],
   "source": [
    "# Sample points within the volume\n",
    "res = 30000\n",
    "sample = (\n",
    "    np.mgrid[\n",
    "        bounds_off[0, 0] : bounds_off[1, 0] : res,\n",
    "        bounds_off[0, 1] : bounds_off[1, 1] : res,\n",
    "        bounds_off[0, 2] : bounds_off[1, 2] : res,\n",
    "    ]\n",
    "    .reshape(3, -1)\n",
    "    .T\n",
    ")\n",
    "\n",
    "# Drop points outside the volume\n",
    "sample = sample[navis.in_volume(sample, mesh)]\n",
    "sample.shape"
   ]
  },
  {
   "cell_type": "code",
   "execution_count": 15,
   "metadata": {},
   "outputs": [
    {
     "data": {
      "text/plain": [
       "np.int64(0)"
      ]
     },
     "execution_count": 15,
     "metadata": {},
     "output_type": "execute_result"
    }
   ],
   "source": [
    "# Next, we have to split the sampled points into:\n",
    "# 1. the brain part which we will mirror via JRC2018M\n",
    "# 2. the VNC part which we will mirror via JRCVNC2018M\n",
    "is_brain = sample[:, 1] <= (90_000 * 4)\n",
    "is_vnc = sample[:, 1] >= (120_000 * 4)\n",
    "\n",
    "# Make sure no point is in both\n",
    "(is_brain & is_vnc).sum()"
   ]
  },
  {
   "cell_type": "code",
   "execution_count": 20,
   "metadata": {},
   "outputs": [],
   "source": [
    "# Next up: transforming the sample points\n",
    "sample_mirr_brain = navis.mirror_brain(sample[is_brain], template=\"BANC\", via=\"JRC2018F\")\n",
    "sample_mirr_vnc = navis.mirror_brain(sample[is_vnc], template=\"BANC\", via=\"JRCVNC2018F\")"
   ]
  },
  {
   "cell_type": "code",
   "execution_count": null,
   "metadata": {},
   "outputs": [],
   "source": [
    "# This also looks decent\n",
    "navis.plot3d([mesh, sample_mirr_brain, sample_mirr_vnc], scatter_kws=dict(color=\"r\"))"
   ]
  },
  {
   "cell_type": "code",
   "execution_count": 27,
   "metadata": {},
   "outputs": [],
   "source": [
    "# Just flipped\n",
    "sample_flip_brain = navis.mirror_brain(sample[is_brain], template='BANC', warp=False)\n",
    "sample_flip_vnc = navis.mirror_brain(sample[is_vnc], template='BANC', warp=False)"
   ]
  },
  {
   "cell_type": "code",
   "execution_count": null,
   "metadata": {},
   "outputs": [],
   "source": [
    "# As expected this looks less then ideal\n",
    "navis.plot3d([mesh, sample_flip_brain, sample_flip_vnc], scatter_kws=dict(color=\"r\"))"
   ]
  },
  {
   "cell_type": "code",
   "execution_count": 29,
   "metadata": {},
   "outputs": [
    {
     "data": {
      "text/html": [
       "<div>\n",
       "<style scoped>\n",
       "    .dataframe tbody tr th:only-of-type {\n",
       "        vertical-align: middle;\n",
       "    }\n",
       "\n",
       "    .dataframe tbody tr th {\n",
       "        vertical-align: top;\n",
       "    }\n",
       "\n",
       "    .dataframe thead th {\n",
       "        text-align: right;\n",
       "    }\n",
       "</style>\n",
       "<table border=\"1\" class=\"dataframe\">\n",
       "  <thead>\n",
       "    <tr style=\"text-align: right;\">\n",
       "      <th></th>\n",
       "      <th>x_flip</th>\n",
       "      <th>y_flip</th>\n",
       "      <th>z_flip</th>\n",
       "      <th>x_mirr</th>\n",
       "      <th>y_mirr</th>\n",
       "      <th>z_mirr</th>\n",
       "    </tr>\n",
       "  </thead>\n",
       "  <tbody>\n",
       "    <tr>\n",
       "      <th>0</th>\n",
       "      <td>946128</td>\n",
       "      <td>115458</td>\n",
       "      <td>140043</td>\n",
       "      <td>879641</td>\n",
       "      <td>96112</td>\n",
       "      <td>137513</td>\n",
       "    </tr>\n",
       "    <tr>\n",
       "      <th>1</th>\n",
       "      <td>946128</td>\n",
       "      <td>145458</td>\n",
       "      <td>80043</td>\n",
       "      <td>894591</td>\n",
       "      <td>116458</td>\n",
       "      <td>69824</td>\n",
       "    </tr>\n",
       "    <tr>\n",
       "      <th>2</th>\n",
       "      <td>946128</td>\n",
       "      <td>145458</td>\n",
       "      <td>110043</td>\n",
       "      <td>889581</td>\n",
       "      <td>117106</td>\n",
       "      <td>101028</td>\n",
       "    </tr>\n",
       "    <tr>\n",
       "      <th>3</th>\n",
       "      <td>946128</td>\n",
       "      <td>145458</td>\n",
       "      <td>140043</td>\n",
       "      <td>877266</td>\n",
       "      <td>122310</td>\n",
       "      <td>130575</td>\n",
       "    </tr>\n",
       "    <tr>\n",
       "      <th>4</th>\n",
       "      <td>946128</td>\n",
       "      <td>175458</td>\n",
       "      <td>80043</td>\n",
       "      <td>891644</td>\n",
       "      <td>146115</td>\n",
       "      <td>65972</td>\n",
       "    </tr>\n",
       "  </tbody>\n",
       "</table>\n",
       "</div>"
      ],
      "text/plain": [
       "   x_flip  y_flip  z_flip  x_mirr  y_mirr  z_mirr\n",
       "0  946128  115458  140043  879641   96112  137513\n",
       "1  946128  145458   80043  894591  116458   69824\n",
       "2  946128  145458  110043  889581  117106  101028\n",
       "3  946128  145458  140043  877266  122310  130575\n",
       "4  946128  175458   80043  891644  146115   65972"
      ]
     },
     "execution_count": 29,
     "metadata": {},
     "output_type": "execute_result"
    }
   ],
   "source": [
    "# Bring it together\n",
    "source = pd.DataFrame(np.vstack((sample_flip_brain, sample_flip_vnc)), columns=['x_flip', 'y_flip', 'z_flip']).round().astype(int)\n",
    "target = pd.DataFrame(np.vstack((sample_mirr_brain, sample_mirr_vnc)), columns=['x_mirr', 'y_mirr', 'z_mirr']).round().astype(int)\n",
    "lm = pd.concat((source, target), axis=1)\n",
    "lm.head()"
   ]
  },
  {
   "cell_type": "code",
   "execution_count": 30,
   "metadata": {},
   "outputs": [],
   "source": [
    "lm.to_csv('BANC_mirror_landmarks_nm.csv', index=False)"
   ]
  },
  {
   "cell_type": "code",
   "execution_count": null,
   "metadata": {},
   "outputs": [],
   "source": []
  }
 ],
 "metadata": {
  "kernelspec": {
   "display_name": "3.11.8",
   "language": "python",
   "name": "python3"
  },
  "language_info": {
   "codemirror_mode": {
    "name": "ipython",
    "version": 3
   },
   "file_extension": ".py",
   "mimetype": "text/x-python",
   "name": "python",
   "nbconvert_exporter": "python",
   "pygments_lexer": "ipython3",
   "version": "3.11.8"
  },
  "widgets": {
   "application/vnd.jupyter.widget-state+json": {
    "state": {},
    "version_major": 2,
    "version_minor": 0
   }
  }
 },
 "nbformat": 4,
 "nbformat_minor": 4
}
