{
 "cells": [
  {
   "cell_type": "markdown",
   "metadata": {},
   "source": [
    "## Male CNS - BANC landmarks\n",
    "In this notebook, we will generate a \"shortcut\" to transform data between BANC and the male CNS. The general idea is:\n",
    "1. Evenly sample points in male CNS\n",
    "2. Transform the VNC and the brain part via their respective JRC2018 templates to the BANC template"
   ]
  },
  {
   "cell_type": "code",
   "execution_count": 1,
   "metadata": {},
   "outputs": [],
   "source": [
    "import numpy as np\n",
    "import pandas as pd\n",
    "\n",
    "import cloudvolume as cv\n",
    "\n",
    "import flybrains\n",
    "import navis"
   ]
  },
  {
   "cell_type": "code",
   "execution_count": 9,
   "metadata": {},
   "outputs": [],
   "source": [
    "del flybrains.JRCFIB2022M._mesh_vnc"
   ]
  },
  {
   "cell_type": "code",
   "execution_count": 10,
   "metadata": {},
   "outputs": [],
   "source": [
    "# Grab the meshes for brain and VNC\n",
    "brain = flybrains.JRCFIB2022M.mesh_brain\n",
    "vnc = flybrains.JRCFIB2022M.mesh_vnc"
   ]
  },
  {
   "cell_type": "code",
   "execution_count": 11,
   "metadata": {},
   "outputs": [
    {
     "data": {
      "text/plain": [
       "array([[  45319.40625  ,   38146.7109375,   79817.3828125],\n",
       "       [ 726917.875    ,  550810.25     , 1072833.875    ]])"
      ]
     },
     "execution_count": 11,
     "metadata": {},
     "output_type": "execute_result"
    }
   ],
   "source": [
    "all_verts = np.vstack([brain.vertices, vnc.vertices])\n",
    "bounds = np.vstack([all_verts.min(axis=0), all_verts.max(axis=0)])\n",
    "bounds"
   ]
  },
  {
   "cell_type": "code",
   "execution_count": 12,
   "metadata": {},
   "outputs": [
    {
     "data": {
      "text/plain": [
       "array([[  35319,   28146,   69817],\n",
       "       [ 736917,  560810, 1082833]])"
      ]
     },
     "execution_count": 12,
     "metadata": {},
     "output_type": "execute_result"
    }
   ],
   "source": [
    "# Add 10 microns around the mesh\n",
    "offset = 10000\n",
    "bounds_off = bounds.astype(int)\n",
    "bounds_off[0, :] -= offset\n",
    "bounds_off[1, :] += offset\n",
    "bounds_off"
   ]
  },
  {
   "cell_type": "code",
   "execution_count": 13,
   "metadata": {},
   "outputs": [
    {
     "data": {
      "text/plain": [
       "(1170, 3)"
      ]
     },
     "execution_count": 13,
     "metadata": {},
     "output_type": "execute_result"
    }
   ],
   "source": [
    "# Sample points within the volume\n",
    "res = 30000\n",
    "sample = (\n",
    "    np.mgrid[\n",
    "        bounds_off[0, 0] : bounds_off[1, 0] : res,\n",
    "        bounds_off[0, 1] : bounds_off[1, 1] : res,\n",
    "        bounds_off[0, 2] : bounds_off[1, 2] : res,\n",
    "    ]\n",
    "    .reshape(3, -1)\n",
    "    .T\n",
    ")\n",
    "\n",
    "# Drop points outside the volume\n",
    "sample = sample[navis.in_volume(sample, brain) | navis.in_volume(sample, vnc)]\n",
    "sample.shape"
   ]
  },
  {
   "cell_type": "code",
   "execution_count": 15,
   "metadata": {},
   "outputs": [
    {
     "data": {
      "text/plain": [
       "np.int64(0)"
      ]
     },
     "execution_count": 15,
     "metadata": {},
     "output_type": "execute_result"
    }
   ],
   "source": [
    "# Next, we have to split the sampled points into:\n",
    "# 1. the brain part which we will mirror via JRC2018M\n",
    "# 2. the VNC part which we will mirror via JRCVNC2018M\n",
    "is_brain = navis.in_volume(sample, brain)\n",
    "is_vnc = navis.in_volume(sample, vnc)\n",
    "\n",
    "# Make sure no point is in both\n",
    "(is_brain & is_vnc).sum()"
   ]
  },
  {
   "cell_type": "code",
   "execution_count": 30,
   "metadata": {},
   "outputs": [
    {
     "name": "stdout",
     "output_type": "stream",
     "text": [
      "Transform path: JRCFIB2022M -> JRCFIB2022Mum -> JRC2018M\n",
      "Transform path: JRC2018M -> JRC2018U -> JRC2018F\n",
      "Transform path: JRC2018F -> BANCum -> BANC\n"
     ]
    }
   ],
   "source": [
    "# Transform the points\n",
    "sample_xf_brain = navis.xform_brain(sample[is_brain], source=\"JRCFIB2022M\", target=\"JRC2018M\")\n",
    "sample_xf_brain = navis.xform_brain(sample_xf_brain, source=\"JRC2018M\", target=\"JRC2018F\")\n",
    "sample_xf_brain = navis.xform_brain(sample_xf_brain, source=\"JRC2018F\", target=\"BANC\")"
   ]
  },
  {
   "cell_type": "code",
   "execution_count": null,
   "metadata": {},
   "outputs": [
    {
     "name": "stdout",
     "output_type": "stream",
     "text": [
      "Transform path: JRCFIB2022M -> JRCFIB2022Mum -> MANCum-JRCFIB2022Mum(post) -> MANCum -> MANC\n",
      "Transform path: MANC -> MANCum -> JRCVNC2018M\n",
      "Transform path: JRCVNC2018M -> JRCVNC2018U -> JRCVNC2018F\n",
      "Transform path: JRCVNC2018F -> BANCum -> BANC\n"
     ]
    }
   ],
   "source": [
    "# Note: we have to avoid navis trying to go via FlyWire -> JRC2018F\n",
    "# We have to make it a multi-step process\n",
    "sample_xf_vnc = navis.xform_brain(sample[is_vnc], source=\"JRCFIB2022M\", target=\"MANC\")\n",
    "sample_xf_vnc = navis.xform_brain(sample_xf_vnc, source=\"MANC\", target=\"JRCVNC2018M\")\n",
    "sample_xf_vnc = navis.xform_brain(sample_xf_vnc, source=\"JRCVNC2018M\", target=\"JRCVNC2018F\")\n",
    "sample_xf_vnc = navis.xform_brain(sample_xf_vnc, source=\"JRCVNC2018F\", target=\"BANC\")"
   ]
  },
  {
   "cell_type": "code",
   "execution_count": null,
   "metadata": {},
   "outputs": [],
   "source": [
    "# This also looks decent\n",
    "navis.plot3d([flybrains.BANC.mesh_whole_brain, sample_xf_brain, sample_xf_vnc])"
   ]
  },
  {
   "cell_type": "code",
   "execution_count": 32,
   "metadata": {},
   "outputs": [
    {
     "data": {
      "text/html": [
       "<div>\n",
       "<style scoped>\n",
       "    .dataframe tbody tr th:only-of-type {\n",
       "        vertical-align: middle;\n",
       "    }\n",
       "\n",
       "    .dataframe tbody tr th {\n",
       "        vertical-align: top;\n",
       "    }\n",
       "\n",
       "    .dataframe thead th {\n",
       "        text-align: right;\n",
       "    }\n",
       "</style>\n",
       "<table border=\"1\" class=\"dataframe\">\n",
       "  <thead>\n",
       "    <tr style=\"text-align: right;\">\n",
       "      <th></th>\n",
       "      <th>x_mcns</th>\n",
       "      <th>y_mcns</th>\n",
       "      <th>z_mcns</th>\n",
       "      <th>x_banc</th>\n",
       "      <th>y_banc</th>\n",
       "      <th>z_banc</th>\n",
       "    </tr>\n",
       "  </thead>\n",
       "  <tbody>\n",
       "    <tr>\n",
       "      <th>0</th>\n",
       "      <td>65319</td>\n",
       "      <td>208146</td>\n",
       "      <td>279817</td>\n",
       "      <td>118834</td>\n",
       "      <td>142836</td>\n",
       "      <td>145730</td>\n",
       "    </tr>\n",
       "    <tr>\n",
       "      <th>1</th>\n",
       "      <td>65319</td>\n",
       "      <td>208146</td>\n",
       "      <td>309817</td>\n",
       "      <td>122311</td>\n",
       "      <td>171460</td>\n",
       "      <td>152858</td>\n",
       "    </tr>\n",
       "    <tr>\n",
       "      <th>2</th>\n",
       "      <td>65319</td>\n",
       "      <td>238146</td>\n",
       "      <td>279817</td>\n",
       "      <td>118903</td>\n",
       "      <td>156510</td>\n",
       "      <td>124176</td>\n",
       "    </tr>\n",
       "    <tr>\n",
       "      <th>3</th>\n",
       "      <td>65319</td>\n",
       "      <td>238146</td>\n",
       "      <td>309817</td>\n",
       "      <td>122146</td>\n",
       "      <td>183473</td>\n",
       "      <td>132195</td>\n",
       "    </tr>\n",
       "    <tr>\n",
       "      <th>4</th>\n",
       "      <td>65319</td>\n",
       "      <td>268146</td>\n",
       "      <td>279817</td>\n",
       "      <td>115745</td>\n",
       "      <td>167695</td>\n",
       "      <td>104015</td>\n",
       "    </tr>\n",
       "  </tbody>\n",
       "</table>\n",
       "</div>"
      ],
      "text/plain": [
       "   x_mcns  y_mcns  z_mcns  x_banc  y_banc  z_banc\n",
       "0   65319  208146  279817  118834  142836  145730\n",
       "1   65319  208146  309817  122311  171460  152858\n",
       "2   65319  238146  279817  118903  156510  124176\n",
       "3   65319  238146  309817  122146  183473  132195\n",
       "4   65319  268146  279817  115745  167695  104015"
      ]
     },
     "execution_count": 32,
     "metadata": {},
     "output_type": "execute_result"
    }
   ],
   "source": [
    "# Bring it together\n",
    "source = pd.DataFrame(np.vstack((sample[is_brain], sample[is_vnc])), columns=['x_mcns', 'y_mcns', 'z_mcns']).round().astype(int)\n",
    "target = pd.DataFrame(np.vstack((sample_xf_brain, sample_xf_vnc)), columns=['x_banc', 'y_banc', 'z_banc']).round().astype(int)\n",
    "lm = pd.concat((source, target), axis=1)\n",
    "lm.head()"
   ]
  },
  {
   "cell_type": "code",
   "execution_count": 33,
   "metadata": {},
   "outputs": [],
   "source": [
    "lm.to_csv('maleCNS_BANC_landmarks_nm.csv', index=False)"
   ]
  }
 ],
 "metadata": {
  "kernelspec": {
   "display_name": "3.11.8",
   "language": "python",
   "name": "python3"
  },
  "language_info": {
   "codemirror_mode": {
    "name": "ipython",
    "version": 3
   },
   "file_extension": ".py",
   "mimetype": "text/x-python",
   "name": "python",
   "nbconvert_exporter": "python",
   "pygments_lexer": "ipython3",
   "version": "3.11.8"
  },
  "widgets": {
   "application/vnd.jupyter.widget-state+json": {
    "state": {},
    "version_major": 2,
    "version_minor": 0
   }
  }
 },
 "nbformat": 4,
 "nbformat_minor": 4
}
